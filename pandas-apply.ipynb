{
 "cells": [
  {
   "cell_type": "code",
   "id": "initial_id",
   "metadata": {
    "collapsed": true,
    "ExecuteTime": {
     "end_time": "2024-10-06T05:21:33.708034Z",
     "start_time": "2024-10-06T05:21:32.430375Z"
    }
   },
   "source": "import pandas as pd",
   "outputs": [],
   "execution_count": 1
  },
  {
   "metadata": {
    "ExecuteTime": {
     "end_time": "2024-10-06T05:21:35.971489Z",
     "start_time": "2024-10-06T05:21:34.224701Z"
    }
   },
   "cell_type": "code",
   "source": [
    "# read data\n",
    "df = pd.read_csv('D:\\MLProjects\\BookCrane\\src\\dataset\\BooksDatasetClean.csv')"
   ],
   "id": "21f1915c150f66b0",
   "outputs": [],
   "execution_count": 2
  },
  {
   "metadata": {
    "ExecuteTime": {
     "end_time": "2024-10-06T05:21:36.504959Z",
     "start_time": "2024-10-06T05:21:36.477398Z"
    }
   },
   "cell_type": "code",
   "source": "df.shape",
   "id": "67524329ecb74b3b",
   "outputs": [
    {
     "data": {
      "text/plain": [
       "(103063, 8)"
      ]
     },
     "execution_count": 3,
     "metadata": {},
     "output_type": "execute_result"
    }
   ],
   "execution_count": 3
  },
  {
   "metadata": {
    "ExecuteTime": {
     "end_time": "2024-10-06T05:21:36.676223Z",
     "start_time": "2024-10-06T05:21:36.643965Z"
    }
   },
   "cell_type": "code",
   "source": "df.head(5)",
   "id": "44a3afed955d0229",
   "outputs": [
    {
     "data": {
      "text/plain": [
       "                                               Title  \\\n",
       "0                                      Goat Brothers   \n",
       "1                                 The Missing Person   \n",
       "2                  Don't Eat Your Heart Out Cookbook   \n",
       "3  When Your Corporate Umbrella Begins to Leak: A...   \n",
       "4    Amy Spangler's Breastfeeding : A Parent's Guide   \n",
       "\n",
       "                    Authors Description              Category  \\\n",
       "0          By Colton, Larry         NaN     History , General   \n",
       "1        By Grumbach, Doris         NaN     Fiction , General   \n",
       "2  By Piscatella, Joseph C.         NaN   Cooking , Reference   \n",
       "3         By Davis, Paul D.         NaN                   NaN   \n",
       "4          By Spangler, Amy         NaN                   NaN   \n",
       "\n",
       "          Publisher  Price Starting With ($) Publish Date (Month)  \\\n",
       "0         Doubleday                     8.79              January   \n",
       "1  Putnam Pub Group                     4.99                March   \n",
       "2    Workman Pub Co                     4.99            September   \n",
       "3     Natl Pr Books                     4.99                April   \n",
       "4      Amy Spangler                     5.32             February   \n",
       "\n",
       "   Publish Date (Year)  \n",
       "0                 1993  \n",
       "1                 1981  \n",
       "2                 1983  \n",
       "3                 1991  \n",
       "4                 1997  "
      ],
      "text/html": [
       "<div>\n",
       "<style scoped>\n",
       "    .dataframe tbody tr th:only-of-type {\n",
       "        vertical-align: middle;\n",
       "    }\n",
       "\n",
       "    .dataframe tbody tr th {\n",
       "        vertical-align: top;\n",
       "    }\n",
       "\n",
       "    .dataframe thead th {\n",
       "        text-align: right;\n",
       "    }\n",
       "</style>\n",
       "<table border=\"1\" class=\"dataframe\">\n",
       "  <thead>\n",
       "    <tr style=\"text-align: right;\">\n",
       "      <th></th>\n",
       "      <th>Title</th>\n",
       "      <th>Authors</th>\n",
       "      <th>Description</th>\n",
       "      <th>Category</th>\n",
       "      <th>Publisher</th>\n",
       "      <th>Price Starting With ($)</th>\n",
       "      <th>Publish Date (Month)</th>\n",
       "      <th>Publish Date (Year)</th>\n",
       "    </tr>\n",
       "  </thead>\n",
       "  <tbody>\n",
       "    <tr>\n",
       "      <th>0</th>\n",
       "      <td>Goat Brothers</td>\n",
       "      <td>By Colton, Larry</td>\n",
       "      <td>NaN</td>\n",
       "      <td>History , General</td>\n",
       "      <td>Doubleday</td>\n",
       "      <td>8.79</td>\n",
       "      <td>January</td>\n",
       "      <td>1993</td>\n",
       "    </tr>\n",
       "    <tr>\n",
       "      <th>1</th>\n",
       "      <td>The Missing Person</td>\n",
       "      <td>By Grumbach, Doris</td>\n",
       "      <td>NaN</td>\n",
       "      <td>Fiction , General</td>\n",
       "      <td>Putnam Pub Group</td>\n",
       "      <td>4.99</td>\n",
       "      <td>March</td>\n",
       "      <td>1981</td>\n",
       "    </tr>\n",
       "    <tr>\n",
       "      <th>2</th>\n",
       "      <td>Don't Eat Your Heart Out Cookbook</td>\n",
       "      <td>By Piscatella, Joseph C.</td>\n",
       "      <td>NaN</td>\n",
       "      <td>Cooking , Reference</td>\n",
       "      <td>Workman Pub Co</td>\n",
       "      <td>4.99</td>\n",
       "      <td>September</td>\n",
       "      <td>1983</td>\n",
       "    </tr>\n",
       "    <tr>\n",
       "      <th>3</th>\n",
       "      <td>When Your Corporate Umbrella Begins to Leak: A...</td>\n",
       "      <td>By Davis, Paul D.</td>\n",
       "      <td>NaN</td>\n",
       "      <td>NaN</td>\n",
       "      <td>Natl Pr Books</td>\n",
       "      <td>4.99</td>\n",
       "      <td>April</td>\n",
       "      <td>1991</td>\n",
       "    </tr>\n",
       "    <tr>\n",
       "      <th>4</th>\n",
       "      <td>Amy Spangler's Breastfeeding : A Parent's Guide</td>\n",
       "      <td>By Spangler, Amy</td>\n",
       "      <td>NaN</td>\n",
       "      <td>NaN</td>\n",
       "      <td>Amy Spangler</td>\n",
       "      <td>5.32</td>\n",
       "      <td>February</td>\n",
       "      <td>1997</td>\n",
       "    </tr>\n",
       "  </tbody>\n",
       "</table>\n",
       "</div>"
      ]
     },
     "execution_count": 4,
     "metadata": {},
     "output_type": "execute_result"
    }
   ],
   "execution_count": 4
  },
  {
   "metadata": {
    "ExecuteTime": {
     "end_time": "2024-10-06T05:21:43.522672Z",
     "start_time": "2024-10-06T05:21:43.504008Z"
    }
   },
   "cell_type": "code",
   "source": [
    "def get_word_count(record):\n",
    "    if isinstance(record, str):\n",
    "        return len(record.lower().split(\" \"))\n",
    "    else:\n",
    "        return 0"
   ],
   "id": "e901efa48ce0950a",
   "outputs": [],
   "execution_count": 5
  },
  {
   "metadata": {},
   "cell_type": "markdown",
   "source": "### Simple Apply",
   "id": "cee2395a86ecf47c"
  },
  {
   "metadata": {
    "ExecuteTime": {
     "end_time": "2024-10-06T05:22:18.408675Z",
     "start_time": "2024-10-06T05:22:16.744128Z"
    }
   },
   "cell_type": "code",
   "source": [
    "%%time\n",
    "df['word_count'] = df['Description'].apply(get_word_count) "
   ],
   "id": "5b6063585e45f0fb",
   "outputs": [
    {
     "name": "stdout",
     "output_type": "stream",
     "text": [
      "CPU times: total: 1.25 s\n",
      "Wall time: 1.63 s\n"
     ]
    }
   ],
   "execution_count": 8
  },
  {
   "metadata": {
    "ExecuteTime": {
     "end_time": "2024-10-06T05:15:18.144228Z",
     "start_time": "2024-10-06T05:15:18.101919Z"
    }
   },
   "cell_type": "code",
   "source": "df[df['word_count'] > 10][['Title','word_count']]",
   "id": "962806b98cfd11da",
   "outputs": [
    {
     "data": {
      "text/plain": [
       "                                                    Title  word_count\n",
       "7                              Journey Through Heartsongs          26\n",
       "8                            In Search of Melancholy Baby          30\n",
       "10           The Dieter's Guide to Weight Loss During Sex          70\n",
       "11      Germs : Biological Weapons and America's Secre...         436\n",
       "13      The Good Book: Reading the Bible with Mind and...          42\n",
       "...                                                   ...         ...\n",
       "103050                             Like A Sister: A Novel         326\n",
       "103052  Creating Web Pages Simplified (3-D Visual Series)          33\n",
       "103053               EVA: The Real Key to Creating Wealth         279\n",
       "103056  The Essentials of Spanish (REA's Language Seri...          89\n",
       "103062               Your First Puppy (Your First Series)          16\n",
       "\n",
       "[69779 rows x 2 columns]"
      ],
      "text/html": [
       "<div>\n",
       "<style scoped>\n",
       "    .dataframe tbody tr th:only-of-type {\n",
       "        vertical-align: middle;\n",
       "    }\n",
       "\n",
       "    .dataframe tbody tr th {\n",
       "        vertical-align: top;\n",
       "    }\n",
       "\n",
       "    .dataframe thead th {\n",
       "        text-align: right;\n",
       "    }\n",
       "</style>\n",
       "<table border=\"1\" class=\"dataframe\">\n",
       "  <thead>\n",
       "    <tr style=\"text-align: right;\">\n",
       "      <th></th>\n",
       "      <th>Title</th>\n",
       "      <th>word_count</th>\n",
       "    </tr>\n",
       "  </thead>\n",
       "  <tbody>\n",
       "    <tr>\n",
       "      <th>7</th>\n",
       "      <td>Journey Through Heartsongs</td>\n",
       "      <td>26</td>\n",
       "    </tr>\n",
       "    <tr>\n",
       "      <th>8</th>\n",
       "      <td>In Search of Melancholy Baby</td>\n",
       "      <td>30</td>\n",
       "    </tr>\n",
       "    <tr>\n",
       "      <th>10</th>\n",
       "      <td>The Dieter's Guide to Weight Loss During Sex</td>\n",
       "      <td>70</td>\n",
       "    </tr>\n",
       "    <tr>\n",
       "      <th>11</th>\n",
       "      <td>Germs : Biological Weapons and America's Secre...</td>\n",
       "      <td>436</td>\n",
       "    </tr>\n",
       "    <tr>\n",
       "      <th>13</th>\n",
       "      <td>The Good Book: Reading the Bible with Mind and...</td>\n",
       "      <td>42</td>\n",
       "    </tr>\n",
       "    <tr>\n",
       "      <th>...</th>\n",
       "      <td>...</td>\n",
       "      <td>...</td>\n",
       "    </tr>\n",
       "    <tr>\n",
       "      <th>103050</th>\n",
       "      <td>Like A Sister: A Novel</td>\n",
       "      <td>326</td>\n",
       "    </tr>\n",
       "    <tr>\n",
       "      <th>103052</th>\n",
       "      <td>Creating Web Pages Simplified (3-D Visual Series)</td>\n",
       "      <td>33</td>\n",
       "    </tr>\n",
       "    <tr>\n",
       "      <th>103053</th>\n",
       "      <td>EVA: The Real Key to Creating Wealth</td>\n",
       "      <td>279</td>\n",
       "    </tr>\n",
       "    <tr>\n",
       "      <th>103056</th>\n",
       "      <td>The Essentials of Spanish (REA's Language Seri...</td>\n",
       "      <td>89</td>\n",
       "    </tr>\n",
       "    <tr>\n",
       "      <th>103062</th>\n",
       "      <td>Your First Puppy (Your First Series)</td>\n",
       "      <td>16</td>\n",
       "    </tr>\n",
       "  </tbody>\n",
       "</table>\n",
       "<p>69779 rows × 2 columns</p>\n",
       "</div>"
      ]
     },
     "execution_count": 30,
     "metadata": {},
     "output_type": "execute_result"
    }
   ],
   "execution_count": 30
  },
  {
   "metadata": {},
   "cell_type": "markdown",
   "source": [
    "### Using Parallel Apply\n",
    "Need to install package : `pip install pandarallel`\n",
    "For more details :  https://towardsdatascience.com/4x-faster-pandas-operations-with-minimal-code-change-bc7079792184"
   ],
   "id": "20c88c2612f58dbe"
  },
  {
   "metadata": {
    "ExecuteTime": {
     "end_time": "2024-10-06T05:25:11.354914Z",
     "start_time": "2024-10-06T05:25:11.325209Z"
    }
   },
   "cell_type": "code",
   "source": [
    "from pandarallel import pandarallel\n",
    "\n",
    "# Initialize pandarallel with a progress bar\n",
    "pandarallel.initialize(progress_bar = True)\n",
    "\n",
    "# Set the number of workers for parallelization. \n",
    "# By default, this is the number of cores available.\n",
    "pandarallel.initialize(nb_workers = 30) \n",
    "\n",
    "# Initialize pandarallel with all logs printed.\n",
    "# By default, this is 2 (display all logs), while 0 display n ologs.\n",
    "pandarallel.initialize(verbose = 2)"
   ],
   "id": "332724ccf85c6c87",
   "outputs": [
    {
     "name": "stdout",
     "output_type": "stream",
     "text": [
      "INFO: Pandarallel will run on 4 workers.\n",
      "INFO: Pandarallel will use standard multiprocessing data transfer (pipe) to transfer data between the main process and workers.\n",
      "\n",
      "WARNING: You are on Windows. If you detect any issue with pandarallel, be sure you checked out the Troubleshooting page:\n",
      "https://nalepae.github.io/pandarallel/troubleshooting/\n",
      "INFO: Pandarallel will run on 30 workers.\n",
      "INFO: Pandarallel will use standard multiprocessing data transfer (pipe) to transfer data between the main process and workers.\n",
      "\n",
      "WARNING: You are on Windows. If you detect any issue with pandarallel, be sure you checked out the Troubleshooting page:\n",
      "https://nalepae.github.io/pandarallel/troubleshooting/\n",
      "INFO: Pandarallel will run on 4 workers.\n",
      "INFO: Pandarallel will use standard multiprocessing data transfer (pipe) to transfer data between the main process and workers.\n",
      "\n",
      "WARNING: You are on Windows. If you detect any issue with pandarallel, be sure you checked out the Troubleshooting page:\n",
      "https://nalepae.github.io/pandarallel/troubleshooting/\n"
     ]
    }
   ],
   "execution_count": 18
  },
  {
   "metadata": {
    "ExecuteTime": {
     "end_time": "2024-10-06T05:25:16.559655Z",
     "start_time": "2024-10-06T05:25:12.469513Z"
    }
   },
   "cell_type": "code",
   "source": [
    "%%time\n",
    "df['word_count'] = df.parallel_apply(get_word_count)"
   ],
   "id": "4b402f8fca8d0e85",
   "outputs": [
    {
     "name": "stdout",
     "output_type": "stream",
     "text": [
      "CPU times: total: 438 ms\n",
      "Wall time: 4.05 s\n"
     ]
    }
   ],
   "execution_count": 19
  },
  {
   "metadata": {},
   "cell_type": "markdown",
   "source": [
    "### By using swifter\n",
    "Need to istall package : `pip install swifter`\n",
    "For More Details : https://medium.com/@jmcarpenter2/swiftapply-automatically-efficient-pandas-apply-operations-50e1058909f9\n"
   ],
   "id": "6d26025fbbdaeefd"
  },
  {
   "metadata": {
    "ExecuteTime": {
     "end_time": "2024-10-06T05:28:47.373855Z",
     "start_time": "2024-10-06T05:28:47.335838Z"
    }
   },
   "cell_type": "code",
   "source": [
    "import pandas as pd\n",
    "import swifter"
   ],
   "id": "78b1c211932ad129",
   "outputs": [],
   "execution_count": 22
  },
  {
   "metadata": {
    "ExecuteTime": {
     "end_time": "2024-10-06T05:29:29.711546Z",
     "start_time": "2024-10-06T05:29:29.420610Z"
    }
   },
   "cell_type": "code",
   "source": [
    "%%time\n",
    "df['word_count'] = df.swifter.apply(get_word_count)"
   ],
   "id": "e1422f44f2975fc0",
   "outputs": [
    {
     "name": "stderr",
     "output_type": "stream",
     "text": [
      "Pandas Apply: 100%|██████████| 9/9 [00:00<?, ?it/s]"
     ]
    },
    {
     "name": "stdout",
     "output_type": "stream",
     "text": [
      "CPU times: total: 46.9 ms\n",
      "Wall time: 282 ms\n"
     ]
    },
    {
     "name": "stderr",
     "output_type": "stream",
     "text": [
      "\n"
     ]
    }
   ],
   "execution_count": 23
  }
 ],
 "metadata": {
  "kernelspec": {
   "display_name": "Python 3",
   "language": "python",
   "name": "python3"
  },
  "language_info": {
   "codemirror_mode": {
    "name": "ipython",
    "version": 2
   },
   "file_extension": ".py",
   "mimetype": "text/x-python",
   "name": "python",
   "nbconvert_exporter": "python",
   "pygments_lexer": "ipython2",
   "version": "2.7.6"
  }
 },
 "nbformat": 4,
 "nbformat_minor": 5
}
