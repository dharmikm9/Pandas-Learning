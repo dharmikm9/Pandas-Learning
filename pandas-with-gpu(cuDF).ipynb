{
 "cells": [
  {
   "metadata": {},
   "cell_type": "markdown",
   "source": [
    "## cuDF \n",
    "Reference : https://rapids.ai/cudf-pandas/"
   ],
   "id": "8eecaac526bfe606"
  },
  {
   "cell_type": "code",
   "id": "initial_id",
   "metadata": {
    "collapsed": true,
    "ExecuteTime": {
     "end_time": "2024-10-06T07:05:54.827462Z",
     "start_time": "2024-10-06T07:05:47.038751Z"
    }
   },
   "source": [
    "!pip install wmi\n",
    "import wmi\n",
    "\n",
    "computer = wmi.WMI()\n",
    "computer_info = computer.Win32_ComputerSystem()[0]\n",
    "os_info = computer.Win32_OperatingSystem()[0]\n",
    "proc_info = computer.Win32_Processor()[0]\n",
    "gpu_info = computer.Win32_VideoController()[0]\n",
    "\n",
    "os_name = os_info.Name.encode('utf-8').split(b'|')[0]\n",
    "os_version = ' '.join([os_info.Version, os_info.BuildNumber])\n",
    "system_ram = float(os_info.TotalVisibleMemorySize) / 1048576  # KB to GB\n",
    "\n",
    "print('OS Name: {0}'.format(os_name))\n",
    "print('OS Version: {0}'.format(os_version))\n",
    "print('CPU: {0}'.format(proc_info.Name))\n",
    "print('RAM: {0} GB'.format(system_ram))\n",
    "print('Graphics Card: {0}'.format(gpu_info.Name))"
   ],
   "outputs": [
    {
     "name": "stdout",
     "output_type": "stream",
     "text": [
      "Requirement already satisfied: wmi in d:\\education\\pandas-learning\\pandas-learning\\lib\\site-packages (1.5.1)\n",
      "Requirement already satisfied: pywin32 in d:\\education\\pandas-learning\\pandas-learning\\lib\\site-packages (from wmi) (307)\n",
      "OS Name: b'Microsoft Windows 11 Home Single Language'\n",
      "OS Version: 10.0.22631 22631\n",
      "CPU: Intel(R) Core(TM) i5-8265U CPU @ 1.60GHz\n",
      "RAM: 7.850818634033203 GB\n",
      "Graphics Card: NVIDIA GeForce MX250\n"
     ]
    }
   ],
   "execution_count": 6
  },
  {
   "metadata": {},
   "cell_type": "code",
   "source": [
    "!pip install \\\n",
    "    --extra-index-url=https://pypi.nvidia.com \\\n",
    "    cudf-cu12==24.8.* dask-cudf-cu12==24.8.* cuml-cu12==24.8.* \\\n",
    "    cugraph-cu12==24.8.* cuspatial-cu12==24.8.* cuproj-cu12==24.8.* \\\n",
    "    cuxfilter-cu12==24.8.* cucim-cu12==24.8.* pylibraft-cu12==24.8.* \\\n",
    "    raft-dask-cu12==24.8.* cuvs-cu12==24.8.* nx-cugraph-cu12==24.8.*"
   ],
   "id": "1ca95aaecea5d405",
   "outputs": [],
   "execution_count": null
  },
  {
   "metadata": {},
   "cell_type": "code",
   "source": [
    "%load_ext cudf.pandas\n",
    "# pandas API is now GPU accelerated\n",
    "#cudf.pandas.install()  # explicitly enable cudf.pandas via import if you can't use command line flags %load_ext\n",
    "import pandas as pd\n",
    "\n",
    "\n",
    "df = pd.read_csv(\"D:\\MLProjects\\BookCrane\\src\\dataset\\BooksDatasetClean.csv\")  # uses the GPU!"
   ],
   "id": "ec025a1938d9a9dd",
   "outputs": [],
   "execution_count": null
  },
  {
   "metadata": {},
   "cell_type": "code",
   "outputs": [],
   "execution_count": null,
   "source": "",
   "id": "e2404829122acc17"
  }
 ],
 "metadata": {
  "kernelspec": {
   "display_name": "Python 3",
   "language": "python",
   "name": "python3"
  },
  "language_info": {
   "codemirror_mode": {
    "name": "ipython",
    "version": 2
   },
   "file_extension": ".py",
   "mimetype": "text/x-python",
   "name": "python",
   "nbconvert_exporter": "python",
   "pygments_lexer": "ipython2",
   "version": "2.7.6"
  }
 },
 "nbformat": 4,
 "nbformat_minor": 5
}
